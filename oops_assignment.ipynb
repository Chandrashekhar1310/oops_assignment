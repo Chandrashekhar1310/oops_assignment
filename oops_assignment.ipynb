{
 "cells": [
  {
   "cell_type": "markdown",
   "id": "5fa483af-a46a-426f-8863-dd5ed49e2e6d",
   "metadata": {},
   "source": [
    "Q1. Explain Class and Object with respect to Object-Oriented Programming. Give a suitable example."
   ]
  },
  {
   "cell_type": "markdown",
   "id": "f1c2123f-4b2c-43c8-b1fd-e57e020c6726",
   "metadata": {},
   "source": [
    "In object-oriented programming, a class is a blueprint or template for creating objects that share common attributes and behaviors. It defines the properties and methods that an object of that class will have.\n",
    "\n",
    "An object, on the other hand, is an instance of a class. It is created from the blueprint defined by the class and has its own set of values for the properties defined by the class."
   ]
  },
  {
   "cell_type": "code",
   "execution_count": 11,
   "id": "067ae9da-987f-4cd4-8e36-317555c91159",
   "metadata": {},
   "outputs": [],
   "source": [
    "class car:\n",
    "    def __init__(self,make,model,year):\n",
    "        self.make = make\n",
    "        self.model = model\n",
    "        self.year = year\n",
    "        self.speed = 0\n",
    "        \n",
    "    def acceleration(self,increment):\n",
    "        self.speed += increment\n",
    "        \n",
    "    def brakes(self,increment):\n",
    "        self.speed -= increment\n",
    "        \n",
    "        \n",
    "    "
   ]
  },
  {
   "cell_type": "code",
   "execution_count": 15,
   "id": "f155ed8e-461c-4bef-84e5-fdb4518f8cea",
   "metadata": {},
   "outputs": [
    {
     "name": "stdout",
     "output_type": "stream",
     "text": [
      "20\n",
      "15\n"
     ]
    }
   ],
   "source": [
    "my_car = car('honda','abc',2022)\n",
    "my_car.acceleration(20)\n",
    "print(my_car.speed)\n",
    "my_car.brakes(5)\n",
    "print(my_car.speed)"
   ]
  },
  {
   "cell_type": "markdown",
   "id": "b53a5427-0575-4472-a391-d5f947eaf585",
   "metadata": {},
   "source": [
    "Q2. Name the four pillars of OOPs."
   ]
  },
  {
   "cell_type": "markdown",
   "id": "b0faa142-c7f1-4b79-8336-8848c9e81353",
   "metadata": {},
   "source": [
    "The four pillars of object-oriented programming (OOP) are:\n",
    "1. Polymorphism\n",
    "2. Encapsulation\n",
    "3. Inheritance\n",
    "4. Abstraction"
   ]
  },
  {
   "cell_type": "markdown",
   "id": "6444b626-8118-4223-9280-0da1fee283b7",
   "metadata": {},
   "source": [
    "Q3. Explain why the __init__() function is used. Give a suitable example."
   ]
  },
  {
   "cell_type": "markdown",
   "id": "6af56377-19f8-4907-8102-80a6058a5a35",
   "metadata": {},
   "source": [
    "The __init__() function is a special method in Python that is used to initialize an object's properties when it is created. It is called automatically when an object of a class is created, and is used to set the initial values for the object's attributes."
   ]
  },
  {
   "cell_type": "code",
   "execution_count": 16,
   "id": "c5d9b605-8da2-4baf-8201-7da5eb9f3996",
   "metadata": {},
   "outputs": [],
   "source": [
    "class car:\n",
    "    def __init__(self,make,model,year):\n",
    "        self.make = make\n",
    "        self.model = model\n",
    "        self.year = year\n",
    "        self.speed = 0\n",
    "        "
   ]
  },
  {
   "cell_type": "markdown",
   "id": "2601e83a-34ae-46a8-810e-d57c241deabc",
   "metadata": {},
   "source": [
    "Q4. Why self is used in OOPs?"
   ]
  },
  {
   "cell_type": "markdown",
   "id": "1974d31e-0576-4735-8f25-49c7b22df6d5",
   "metadata": {},
   "source": [
    "In object-oriented programming, self is used to refer to the instance of a class that a method is associated with. It is a special variable that allows an object to access its own properties and methods.\n",
    "\n",
    "When a method is called on an object, the object itself is automatically passed as the first argument to the method, and is referred to as self. This allows the method to access and modify the object's attributes and methods."
   ]
  },
  {
   "cell_type": "markdown",
   "id": "8e0fcc17-74d7-4938-9b0e-59f77c5274fc",
   "metadata": {},
   "source": [
    "Q5. What is inheritance? Give an example for each type of inheritance."
   ]
  },
  {
   "cell_type": "markdown",
   "id": "522303d1-9f94-4874-ae14-011bf5362fc8",
   "metadata": {},
   "source": [
    "Inheritance is a feature of object-oriented programming that allows a new class to be based on an existing class, inheriting its properties and methods. The existing class is called the parent or superclass, while the new class is called the child or subclass.\n",
    "\n",
    "There are four types of inheritance in Python:\n",
    "\n",
    "Single inheritance: In single inheritance, a subclass is derived from a single parent class. It involves one-to-one relationship between the classes. For example"
   ]
  },
  {
   "cell_type": "markdown",
   "id": "a5906669-248d-4850-b025-6ff6b71a273d",
   "metadata": {},
   "source": [
    "Inheritance is a feature of object-oriented programming that allows a new class to be based on an existing class, inheriting its properties and methods. The existing class is called the parent or superclass, while the new class is called the child or subclass.\n",
    "\n",
    "There are four types of inheritance in Python:\n",
    "\n",
    "Single inheritance: In single inheritance, a subclass is derived from a single parent class. It involves one-to-one relationship between the classes. For example"
   ]
  },
  {
   "cell_type": "code",
   "execution_count": 17,
   "id": "c0f251f4-17cb-4394-a345-18ac50e9719e",
   "metadata": {},
   "outputs": [
    {
     "name": "stdout",
     "output_type": "stream",
     "text": [
      "Woof!\n"
     ]
    }
   ],
   "source": [
    "class Animal:\n",
    "    def __init__(self, name):\n",
    "        self.name = name\n",
    "\n",
    "    def speak(self):\n",
    "        print(\"\")\n",
    "\n",
    "class Dog(Animal):\n",
    "    def speak(self):\n",
    "        print(\"Woof!\")\n",
    "\n",
    "dog = Dog(\"Rex\")\n",
    "dog.speak()   \n"
   ]
  },
  {
   "cell_type": "markdown",
   "id": "d91ac43c-37ee-4629-9dbb-ad18ac1896e2",
   "metadata": {},
   "source": [
    "Multiple inheritance: In multiple inheritance, a subclass is derived from multiple parent classes. It involves many-to-one relationship between the classes. For example:"
   ]
  },
  {
   "cell_type": "code",
   "execution_count": 19,
   "id": "1a3b40a3-11ba-4648-af12-28a3fd43b075",
   "metadata": {},
   "outputs": [
    {
     "data": {
      "text/plain": [
       "'this is a class2'"
      ]
     },
     "execution_count": 19,
     "metadata": {},
     "output_type": "execute_result"
    }
   ],
   "source": [
    "class class1:\n",
    "    def test_class1(self):\n",
    "        return 'this is class1'\n",
    "    \n",
    "class class2:\n",
    "    def test_class2(self):\n",
    "        return 'this is a class2'\n",
    "    \n",
    "class class3(class1 , class2):\n",
    "    pass\n",
    "\n",
    "obj_class3 = class3()\n",
    "\n",
    "obj_class3.test_class1()\n",
    "obj_class3.test_class2()"
   ]
  },
  {
   "cell_type": "markdown",
   "id": "5b77340d-8188-477d-8c92-9e5e71c8a67a",
   "metadata": {},
   "source": [
    "Multilevel inheritance: In multilevel inheritance, a subclass is derived from a parent class, which is itself derived from another parent class. It involves a chain of inheritance relationships. For example:"
   ]
  },
  {
   "cell_type": "code",
   "execution_count": 21,
   "id": "0fa3ff50-f005-452f-964a-d16eea9eb1d0",
   "metadata": {},
   "outputs": [
    {
     "name": "stdout",
     "output_type": "stream",
     "text": [
      "Woof!\n",
      "Rex\n",
      "Labrador\n"
     ]
    }
   ],
   "source": [
    "class Animal:\n",
    "    def __init__(self, name):\n",
    "        self.name = name\n",
    "\n",
    "    def speak(self):\n",
    "        print(\"\")\n",
    "\n",
    "class Dog(Animal):\n",
    "    def speak(self):\n",
    "        print(\"Woof!\")\n",
    "\n",
    "class Labrador(Dog):\n",
    "    def __init__(self, name):\n",
    "        super().__init__(name)\n",
    "        self.breed = \"Labrador\"\n",
    "\n",
    "labrador = Labrador(\"Rex\")\n",
    "labrador.speak()   \n",
    "print(labrador.name)   \n",
    "print(labrador.breed) \n"
   ]
  },
  {
   "cell_type": "markdown",
   "id": "43dfd122-568d-4380-9f60-162a8198c261",
   "metadata": {},
   "source": [
    "Hierarchical inheritance: In hierarchical inheritance, multiple subclasses are derived from a single parent class. It involves one-to-many relationship between the classes. For example:"
   ]
  },
  {
   "cell_type": "code",
   "execution_count": 22,
   "id": "5de3539c-b006-4a63-83e4-ef6d214c298d",
   "metadata": {},
   "outputs": [
    {
     "name": "stdout",
     "output_type": "stream",
     "text": [
      "Woof!\n",
      "Meow!\n"
     ]
    }
   ],
   "source": [
    "class Animal:\n",
    "    def __init__(self, name):\n",
    "        self.name = name\n",
    "\n",
    "    def speak(self):\n",
    "        print(\"\")\n",
    "\n",
    "class Dog(Animal):\n",
    "    def speak(self):\n",
    "        print(\"Woof!\")\n",
    "\n",
    "class Cat(Animal):\n",
    "    def speak(self):\n",
    "        print(\"Meow!\")\n",
    "\n",
    "dog = Dog(\"Rex\")\n",
    "cat = Cat(\"Mittens\")\n",
    "dog.speak()  \n",
    "cat.speak()   \n"
   ]
  },
  {
   "cell_type": "code",
   "execution_count": null,
   "id": "ecc2d491-e01a-4f54-a1d0-e151a6f30907",
   "metadata": {},
   "outputs": [],
   "source": []
  }
 ],
 "metadata": {
  "kernelspec": {
   "display_name": "Python 3 (ipykernel)",
   "language": "python",
   "name": "python3"
  },
  "language_info": {
   "codemirror_mode": {
    "name": "ipython",
    "version": 3
   },
   "file_extension": ".py",
   "mimetype": "text/x-python",
   "name": "python",
   "nbconvert_exporter": "python",
   "pygments_lexer": "ipython3",
   "version": "3.10.8"
  }
 },
 "nbformat": 4,
 "nbformat_minor": 5
}
